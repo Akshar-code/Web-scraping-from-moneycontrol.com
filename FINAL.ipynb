{
 "cells": [
  {
   "cell_type": "code",
   "execution_count": 6,
   "metadata": {},
   "outputs": [],
   "source": [
    "import re\n",
    "import pandas as pd\n",
    "from bs4 import BeautifulSoup as Soup\n",
    "from urllib.request import urlopen as uReq"
   ]
  },
  {
   "cell_type": "code",
   "execution_count": 53,
   "metadata": {},
   "outputs": [
    {
     "name": "stdout",
     "output_type": "stream",
     "text": [
      "['https://www.moneycontrol.com/financials/adaniportsspecialeconomiczone/balance-sheetVI/MPS#MPS', 'https://www.moneycontrol.com/financials/asianpaints/balance-sheetVI/AP31#AP31', 'https://www.moneycontrol.com/financials/axisbank/balance-sheetVI/AB16#AB16', 'https://www.moneycontrol.com/financials/bajajauto/balance-sheetVI/BA10#BA10', 'https://www.moneycontrol.com/financials/bajajfinserv/balance-sheetVI/BF04#BF04', 'https://www.moneycontrol.com/financials/bajajfinance/balance-sheetVI/BAF#BAF', 'https://www.moneycontrol.com/financials/bhartiairtel/balance-sheetVI/BA08#BA08', 'https://www.moneycontrol.com/financials/bharatpetroleumcorporation/balance-sheetVI/BPC#BPC', 'https://www.moneycontrol.com/financials/britanniaindustries/balance-sheetVI/BI#BI', 'https://www.moneycontrol.com/financials/cipla/balance-sheetVI/C#C', 'https://www.moneycontrol.com/financials/coalindia/balance-sheetVI/CI11#CI11', 'https://www.moneycontrol.com/financials/drreddyslaboratories/balance-sheetVI/DRL#DRL', 'https://www.moneycontrol.com/financials/eichermotors/balance-sheetVI/EM#EM', 'https://www.moneycontrol.com/financials/gailindia/balance-sheetVI/GAI#GAI', 'https://www.moneycontrol.com/financials/grasimindustries/balance-sheetVI/GI01#GI01', 'https://www.moneycontrol.com/financials/hcltechnologies/balance-sheetVI/HCL02#HCL02', 'https://www.moneycontrol.com/financials/housingdevelopmentfinancecorporation/balance-sheetVI/HDF#HDF', 'https://www.moneycontrol.com/financials/hdfcbank/balance-sheetVI/HDF01#HDF01', 'https://www.moneycontrol.com/financials/heromotocorp/balance-sheetVI/HHM#HHM', 'https://www.moneycontrol.com/financials/hindalcoindustries/balance-sheetVI/HI#HI', 'https://www.moneycontrol.com/financials/hindustanunilever/balance-sheetVI/HU#HU', 'https://www.moneycontrol.com/financials/indiabullshousingfinance/balance-sheetVI/IHF01#IHF01', 'https://www.moneycontrol.com/financials/icicibank/balance-sheetVI/ICI02#ICI02', 'https://www.moneycontrol.com/financials/indusindbank/balance-sheetVI/IIB#IIB', 'https://www.moneycontrol.com/financials/bhartiinfratel/balance-sheetVI/BI14#BI14', 'https://www.moneycontrol.com/financials/infosys/balance-sheetVI/IT#IT', 'https://www.moneycontrol.com/financials/indianoilcorporation/balance-sheetVI/IOC#IOC', 'https://www.moneycontrol.com/financials/itc/balance-sheetVI/ITC#ITC', 'https://www.moneycontrol.com/financials/jswsteel/balance-sheetVI/JSW01#JSW01', 'https://www.moneycontrol.com/financials/kotakmahindrabank/balance-sheetVI/KMB#KMB', 'https://www.moneycontrol.com/financials/larsentoubro/balance-sheetVI/LT#LT', 'https://www.moneycontrol.com/financials/mahindramahindra/balance-sheetVI/MM#MM', 'https://www.moneycontrol.com/financials/marutisuzukiindia/balance-sheetVI/MS24#MS24', 'https://www.moneycontrol.com/financials/ntpc/balance-sheetVI/NTP#NTP', 'https://www.moneycontrol.com/financials/oilnaturalgascorporation/balance-sheetVI/ONG#ONG', 'https://www.moneycontrol.com/financials/powergridcorporationindia/balance-sheetVI/PGC#PGC', 'https://www.moneycontrol.com/financials/relianceindustries/balance-sheetVI/RI#RI', 'https://www.moneycontrol.com/financials/statebankindia/balance-sheetVI/SBI#SBI', 'https://www.moneycontrol.com/financials/sunpharmaceuticalindustries/balance-sheetVI/SPI#SPI', 'https://www.moneycontrol.com/financials/tatamotors/balance-sheetVI/TM03#TM03', 'https://www.moneycontrol.com/financials/tatasteel/balance-sheetVI/TIS#TIS', 'https://www.moneycontrol.com/financials/tataconsultancyservices/balance-sheetVI/TCS#TCS', 'https://www.moneycontrol.com/financials/techmahindra/balance-sheetVI/TM4#TM4', 'https://www.moneycontrol.com/financials/titancompany/balance-sheetVI/TI01#TI01', 'https://www.moneycontrol.com/financials/ultratechcement/balance-sheetVI/UTC01#UTC01', 'https://www.moneycontrol.com/financials/upl/balance-sheetVI/UP04#UP04', 'https://www.moneycontrol.com/financials/vedanta/balance-sheetVI/SG#SG', 'https://www.moneycontrol.com/financials/wipro/balance-sheetVI/W#W', 'https://www.moneycontrol.com/financials/yesbank/balance-sheetVI/YB#YB', 'https://www.moneycontrol.com/financials/zeeentertainmententerprises/balance-sheetVI/ZEE#ZEE']\n"
     ]
    }
   ],
   "source": [
    "df=pd.read_csv('D:\\\\VIT 3-1\\\\VIT_Hack\\\\Challenge1.csv')\n",
    "p=list(df['URLS'])\n",
    "print(p) #hold the list of all urls\n",
    "finalCompany=[]\n",
    "count=0\n",
    "count1=0"
   ]
  },
  {
   "cell_type": "code",
   "execution_count": 54,
   "metadata": {
    "scrolled": true
   },
   "outputs": [
    {
     "name": "stdout",
     "output_type": "stream",
     "text": [
      "given URL: https://www.moneycontrol.com/financials/adaniportsspecialeconomiczone/balance-sheetVI/MPS#MPS\n"
     ]
    },
    {
     "name": "stderr",
     "output_type": "stream",
     "text": [
      "Some characters could not be decoded, and were replaced with REPLACEMENT CHARACTER.\n"
     ]
    },
    {
     "name": "stdout",
     "output_type": "stream",
     "text": [
      "Net Sales: 5,336.38\n"
     ]
    },
    {
     "name": "stderr",
     "output_type": "stream",
     "text": [
      "Some characters could not be decoded, and were replaced with REPLACEMENT CHARACTER.\n"
     ]
    },
    {
     "name": "stdout",
     "output_type": "stream",
     "text": [
      "Interest Cover :3.66\n",
      "given URL: https://www.moneycontrol.com/financials/asianpaints/balance-sheetVI/AP31#AP31\n"
     ]
    },
    {
     "name": "stderr",
     "output_type": "stream",
     "text": [
      "Some characters could not be decoded, and were replaced with REPLACEMENT CHARACTER.\n"
     ]
    },
    {
     "name": "stdout",
     "output_type": "stream",
     "text": [
      "Net Sales: 16,391.78\n"
     ]
    },
    {
     "name": "stderr",
     "output_type": "stream",
     "text": [
      "Some characters could not be decoded, and were replaced with REPLACEMENT CHARACTER.\n"
     ]
    },
    {
     "name": "stdout",
     "output_type": "stream",
     "text": [
      "Interest Cover :106.78\n"
     ]
    },
    {
     "name": "stderr",
     "output_type": "stream",
     "text": [
      "Some characters could not be decoded, and were replaced with REPLACEMENT CHARACTER.\n"
     ]
    },
    {
     "name": "stdout",
     "output_type": "stream",
     "text": [
      "Return on Networth / Equity (%): 24.01\n",
      "PE: 75.06738544474393\n",
      "given URL: https://www.moneycontrol.com/financials/axisbank/balance-sheetVI/AB16#AB16\n"
     ]
    },
    {
     "name": "stderr",
     "output_type": "stream",
     "text": [
      "Some characters could not be decoded, and were replaced with REPLACEMENT CHARACTER.\n"
     ]
    },
    {
     "name": "stdout",
     "output_type": "stream",
     "text": [
      "Net Sales: 41,322.02\n"
     ]
    },
    {
     "name": "stderr",
     "output_type": "stream",
     "text": [
      "Some characters could not be decoded, and were replaced with REPLACEMENT CHARACTER.\n"
     ]
    },
    {
     "name": "stdout",
     "output_type": "stream",
     "text": [
      "Interest Expended / Capital Employed(%) :4.46\n"
     ]
    },
    {
     "name": "stderr",
     "output_type": "stream",
     "text": [
      "Some characters could not be decoded, and were replaced with REPLACEMENT CHARACTER.\n"
     ]
    },
    {
     "name": "stdout",
     "output_type": "stream",
     "text": [
      "given URL: https://www.moneycontrol.com/financials/bajajauto/balance-sheetVI/BA10#BA10\n"
     ]
    },
    {
     "name": "stderr",
     "output_type": "stream",
     "text": [
      "Some characters could not be decoded, and were replaced with REPLACEMENT CHARACTER.\n"
     ]
    },
    {
     "name": "stdout",
     "output_type": "stream",
     "text": [
      "Net Sales: 29,567.25\n"
     ]
    },
    {
     "name": "stderr",
     "output_type": "stream",
     "text": [
      "Some characters could not be decoded, and were replaced with REPLACEMENT CHARACTER.\n"
     ]
    },
    {
     "name": "stdout",
     "output_type": "stream",
     "text": [
      "Interest Cover :1,420.90\n"
     ]
    },
    {
     "name": "stderr",
     "output_type": "stream",
     "text": [
      "Some characters could not be decoded, and were replaced with REPLACEMENT CHARACTER.\n"
     ]
    },
    {
     "name": "stdout",
     "output_type": "stream",
     "text": [
      "Return on Networth / Equity (%): 21.46\n",
      "PE: 18.12654702970297\n",
      "Price/Net Operating Revenue: 18.12654702970297\n",
      "Total Debt/Equity : 0.00\n",
      "**************************************************\n",
      "given URL: https://www.moneycontrol.com/financials/bajajfinserv/balance-sheetVI/BF04#BF04\n"
     ]
    },
    {
     "name": "stderr",
     "output_type": "stream",
     "text": [
      "Some characters could not be decoded, and were replaced with REPLACEMENT CHARACTER.\n"
     ]
    },
    {
     "name": "stdout",
     "output_type": "stream",
     "text": [
      "Net Sales: 423.05\n"
     ]
    },
    {
     "name": "stderr",
     "output_type": "stream",
     "text": [
      "Some characters could not be decoded, and were replaced with REPLACEMENT CHARACTER.\n"
     ]
    },
    {
     "name": "stdout",
     "output_type": "stream",
     "text": [
      "Interest Cover :--\n",
      "given URL: https://www.moneycontrol.com/financials/bajajfinance/balance-sheetVI/BAF#BAF\n"
     ]
    },
    {
     "name": "stderr",
     "output_type": "stream",
     "text": [
      "Some characters could not be decoded, and were replaced with REPLACEMENT CHARACTER.\n"
     ]
    },
    {
     "name": "stdout",
     "output_type": "stream",
     "text": [
      "Net Sales: 17,383.97\n"
     ]
    },
    {
     "name": "stderr",
     "output_type": "stream",
     "text": [
      "Some characters could not be decoded, and were replaced with REPLACEMENT CHARACTER.\n"
     ]
    },
    {
     "name": "stdout",
     "output_type": "stream",
     "text": [
      "Interest Cover :2.02\n",
      "given URL: https://www.moneycontrol.com/financials/bhartiairtel/balance-sheetVI/BA08#BA08\n"
     ]
    },
    {
     "name": "stderr",
     "output_type": "stream",
     "text": [
      "Some characters could not be decoded, and were replaced with REPLACEMENT CHARACTER.\n"
     ]
    },
    {
     "name": "stdout",
     "output_type": "stream",
     "text": [
      "Net Sales: 49,608.00\n"
     ]
    },
    {
     "name": "stderr",
     "output_type": "stream",
     "text": [
      "Some characters could not be decoded, and were replaced with REPLACEMENT CHARACTER.\n"
     ]
    },
    {
     "name": "stdout",
     "output_type": "stream",
     "text": [
      "Interest Cover :-0.46\n",
      "given URL: https://www.moneycontrol.com/financials/bharatpetroleumcorporation/balance-sheetVI/BPC#BPC\n"
     ]
    },
    {
     "name": "stderr",
     "output_type": "stream",
     "text": [
      "Some characters could not be decoded, and were replaced with REPLACEMENT CHARACTER.\n"
     ]
    },
    {
     "name": "stdout",
     "output_type": "stream",
     "text": [
      "Net Sales: 297,275.05\n"
     ]
    },
    {
     "name": "stderr",
     "output_type": "stream",
     "text": [
      "Some characters could not be decoded, and were replaced with REPLACEMENT CHARACTER.\n"
     ]
    },
    {
     "name": "stdout",
     "output_type": "stream",
     "text": [
      "Interest Cover :8.92\n"
     ]
    },
    {
     "name": "stderr",
     "output_type": "stream",
     "text": [
      "Some characters could not be decoded, and were replaced with REPLACEMENT CHARACTER.\n"
     ]
    },
    {
     "name": "stdout",
     "output_type": "stream",
     "text": [
      "Return on Networth / Equity (%): 19.41\n",
      "PE: 11.137617209045782\n",
      "Price/Net Operating Revenue: 11.137617209045782\n",
      "Total Debt/Equity : 0.74\n",
      "**************************************************\n",
      "given URL: https://www.moneycontrol.com/financials/britanniaindustries/balance-sheetVI/BI#BI\n"
     ]
    },
    {
     "name": "stderr",
     "output_type": "stream",
     "text": [
      "Some characters could not be decoded, and were replaced with REPLACEMENT CHARACTER.\n"
     ]
    },
    {
     "name": "stdout",
     "output_type": "stream",
     "text": [
      "Net Sales: 10,389.49\n"
     ]
    },
    {
     "name": "stderr",
     "output_type": "stream",
     "text": [
      "Some characters could not be decoded, and were replaced with REPLACEMENT CHARACTER.\n"
     ]
    },
    {
     "name": "stdout",
     "output_type": "stream",
     "text": [
      "Interest Cover :1,115.36\n"
     ]
    },
    {
     "name": "stderr",
     "output_type": "stream",
     "text": [
      "Some characters could not be decoded, and were replaced with REPLACEMENT CHARACTER.\n"
     ]
    },
    {
     "name": "stdout",
     "output_type": "stream",
     "text": [
      "Return on Networth / Equity (%): 27.78\n",
      "PE: 61.37871976022265\n",
      "given URL: https://www.moneycontrol.com/financials/cipla/balance-sheetVI/C#C\n"
     ]
    },
    {
     "name": "stderr",
     "output_type": "stream",
     "text": [
      "Some characters could not be decoded, and were replaced with REPLACEMENT CHARACTER.\n"
     ]
    },
    {
     "name": "stdout",
     "output_type": "stream",
     "text": [
      "Net Sales: 11,968.44\n"
     ]
    },
    {
     "name": "stderr",
     "output_type": "stream",
     "text": [
      "Some characters could not be decoded, and were replaced with REPLACEMENT CHARACTER.\n"
     ]
    },
    {
     "name": "stdout",
     "output_type": "stream",
     "text": [
      "Interest Cover :147.90\n"
     ]
    },
    {
     "name": "stderr",
     "output_type": "stream",
     "text": [
      "Some characters could not be decoded, and were replaced with REPLACEMENT CHARACTER.\n"
     ]
    },
    {
     "name": "stdout",
     "output_type": "stream",
     "text": [
      "given URL: https://www.moneycontrol.com/financials/coalindia/balance-sheetVI/CI11#CI11\n"
     ]
    },
    {
     "name": "stderr",
     "output_type": "stream",
     "text": [
      "Some characters could not be decoded, and were replaced with REPLACEMENT CHARACTER.\n"
     ]
    },
    {
     "name": "stdout",
     "output_type": "stream",
     "text": [
      "Net Sales: 315.39\n"
     ]
    },
    {
     "name": "stderr",
     "output_type": "stream",
     "text": [
      "Some characters could not be decoded, and were replaced with REPLACEMENT CHARACTER.\n"
     ]
    },
    {
     "name": "stdout",
     "output_type": "stream",
     "text": [
      "Interest Cover :586.50\n"
     ]
    },
    {
     "name": "stderr",
     "output_type": "stream",
     "text": [
      "Some characters could not be decoded, and were replaced with REPLACEMENT CHARACTER.\n"
     ]
    },
    {
     "name": "stdout",
     "output_type": "stream",
     "text": [
      "Return on Networth / Equity (%): 74.79\n",
      "PE: 11.858328393598104\n",
      "Price/Net Operating Revenue: 11.858328393598104\n",
      "Total Debt/Equity : 4.90\n",
      "**************************************************\n",
      "given URL: https://www.moneycontrol.com/financials/drreddyslaboratories/balance-sheetVI/DRL#DRL\n"
     ]
    },
    {
     "name": "stderr",
     "output_type": "stream",
     "text": [
      "Some characters could not be decoded, and were replaced with REPLACEMENT CHARACTER.\n"
     ]
    },
    {
     "name": "stdout",
     "output_type": "stream",
     "text": [
      "Net Sales: 10,466.70\n"
     ]
    },
    {
     "name": "stderr",
     "output_type": "stream",
     "text": [
      "Some characters could not be decoded, and were replaced with REPLACEMENT CHARACTER.\n"
     ]
    },
    {
     "name": "stdout",
     "output_type": "stream",
     "text": [
      "Interest Cover :30.94\n"
     ]
    },
    {
     "name": "stderr",
     "output_type": "stream",
     "text": [
      "Some characters could not be decoded, and were replaced with REPLACEMENT CHARACTER.\n"
     ]
    },
    {
     "name": "stdout",
     "output_type": "stream",
     "text": [
      "given URL: https://www.moneycontrol.com/financials/eichermotors/balance-sheetVI/EM#EM\n"
     ]
    },
    {
     "name": "stderr",
     "output_type": "stream",
     "text": [
      "Some characters could not be decoded, and were replaced with REPLACEMENT CHARACTER.\n"
     ]
    },
    {
     "name": "stdout",
     "output_type": "stream",
     "text": [
      "Net Sales: 9,715.16\n"
     ]
    },
    {
     "name": "stderr",
     "output_type": "stream",
     "text": [
      "Some characters could not be decoded, and were replaced with REPLACEMENT CHARACTER.\n"
     ]
    },
    {
     "name": "stdout",
     "output_type": "stream",
     "text": [
      "Interest Cover :1,054.68\n"
     ]
    },
    {
     "name": "stderr",
     "output_type": "stream",
     "text": [
      "Some characters could not be decoded, and were replaced with REPLACEMENT CHARACTER.\n"
     ]
    },
    {
     "name": "stdout",
     "output_type": "stream",
     "text": [
      "Return on Networth / Equity (%): 28.82\n",
      "PE: 23.707076204255547\n",
      "Price/Net Operating Revenue: 23.707076204255547\n",
      "Total Debt/Equity : 0.01\n",
      "**************************************************\n",
      "given URL: https://www.moneycontrol.com/financials/gailindia/balance-sheetVI/GAI#GAI\n"
     ]
    },
    {
     "name": "stderr",
     "output_type": "stream",
     "text": [
      "Some characters could not be decoded, and were replaced with REPLACEMENT CHARACTER.\n"
     ]
    },
    {
     "name": "stdout",
     "output_type": "stream",
     "text": [
      "Net Sales: 75,126.30\n"
     ]
    },
    {
     "name": "stderr",
     "output_type": "stream",
     "text": [
      "Some characters could not be decoded, and were replaced with REPLACEMENT CHARACTER.\n"
     ]
    },
    {
     "name": "stdout",
     "output_type": "stream",
     "text": [
      "Interest Cover :68.93\n"
     ]
    },
    {
     "name": "stderr",
     "output_type": "stream",
     "text": [
      "Some characters could not be decoded, and were replaced with REPLACEMENT CHARACTER.\n"
     ]
    },
    {
     "name": "stdout",
     "output_type": "stream",
     "text": [
      "given URL: https://www.moneycontrol.com/financials/grasimindustries/balance-sheetVI/GI01#GI01\n"
     ]
    },
    {
     "name": "stderr",
     "output_type": "stream",
     "text": [
      "Some characters could not be decoded, and were replaced with REPLACEMENT CHARACTER.\n"
     ]
    },
    {
     "name": "stdout",
     "output_type": "stream",
     "text": [
      "Net Sales: 20,550.43\n"
     ]
    },
    {
     "name": "stderr",
     "output_type": "stream",
     "text": [
      "Some characters could not be decoded, and were replaced with REPLACEMENT CHARACTER.\n"
     ]
    },
    {
     "name": "stdout",
     "output_type": "stream",
     "text": [
      "Interest Cover :19.49\n"
     ]
    },
    {
     "name": "stderr",
     "output_type": "stream",
     "text": [
      "Some characters could not be decoded, and were replaced with REPLACEMENT CHARACTER.\n"
     ]
    },
    {
     "name": "stdout",
     "output_type": "stream",
     "text": [
      "given URL: https://www.moneycontrol.com/financials/hcltechnologies/balance-sheetVI/HCL02#HCL02\n"
     ]
    },
    {
     "name": "stderr",
     "output_type": "stream",
     "text": [
      "Some characters could not be decoded, and were replaced with REPLACEMENT CHARACTER.\n"
     ]
    },
    {
     "name": "stdout",
     "output_type": "stream",
     "text": [
      "Net Sales: 26,012.00\n"
     ]
    },
    {
     "name": "stderr",
     "output_type": "stream",
     "text": [
      "Some characters could not be decoded, and were replaced with REPLACEMENT CHARACTER.\n"
     ]
    },
    {
     "name": "stdout",
     "output_type": "stream",
     "text": [
      "Interest Cover :621.69\n"
     ]
    },
    {
     "name": "stderr",
     "output_type": "stream",
     "text": [
      "Some characters could not be decoded, and were replaced with REPLACEMENT CHARACTER.\n"
     ]
    },
    {
     "name": "stdout",
     "output_type": "stream",
     "text": [
      "Return on Networth / Equity (%): 26.88\n",
      "PE: 17.575808343106047\n",
      "Price/Net Operating Revenue: 17.575808343106047\n",
      "given URL: https://www.moneycontrol.com/financials/housingdevelopmentfinancecorporation/balance-sheetVI/HDF#HDF\n"
     ]
    },
    {
     "name": "stderr",
     "output_type": "stream",
     "text": [
      "Some characters could not be decoded, and were replaced with REPLACEMENT CHARACTER.\n"
     ]
    },
    {
     "name": "stdout",
     "output_type": "stream",
     "text": [
      "Net Sales: 43,348.04\n"
     ]
    },
    {
     "name": "stderr",
     "output_type": "stream",
     "text": [
      "Some characters could not be decoded, and were replaced with REPLACEMENT CHARACTER.\n"
     ]
    },
    {
     "name": "stdout",
     "output_type": "stream",
     "text": [
      "Interest Cover :1.47\n",
      "given URL: https://www.moneycontrol.com/financials/hdfcbank/balance-sheetVI/HDF01#HDF01\n"
     ]
    },
    {
     "name": "stderr",
     "output_type": "stream",
     "text": [
      "Some characters could not be decoded, and were replaced with REPLACEMENT CHARACTER.\n"
     ]
    },
    {
     "name": "stdout",
     "output_type": "stream",
     "text": [
      "Net Sales: 77,544.19\n"
     ]
    },
    {
     "name": "stderr",
     "output_type": "stream",
     "text": [
      "Some characters could not be decoded, and were replaced with REPLACEMENT CHARACTER.\n"
     ]
    },
    {
     "name": "stdout",
     "output_type": "stream",
     "text": [
      "Interest Expended / Capital Employed(%) :4.40\n"
     ]
    },
    {
     "name": "stderr",
     "output_type": "stream",
     "text": [
      "Some characters could not be decoded, and were replaced with REPLACEMENT CHARACTER.\n"
     ]
    },
    {
     "name": "stdout",
     "output_type": "stream",
     "text": [
      "given URL: https://www.moneycontrol.com/financials/heromotocorp/balance-sheetVI/HHM#HHM\n"
     ]
    },
    {
     "name": "stderr",
     "output_type": "stream",
     "text": [
      "Some characters could not be decoded, and were replaced with REPLACEMENT CHARACTER.\n"
     ]
    },
    {
     "name": "stdout",
     "output_type": "stream",
     "text": [
      "Net Sales: 33,650.54\n"
     ]
    },
    {
     "name": "stderr",
     "output_type": "stream",
     "text": [
      "Some characters could not be decoded, and were replaced with REPLACEMENT CHARACTER.\n"
     ]
    },
    {
     "name": "stdout",
     "output_type": "stream",
     "text": [
      "Interest Cover :583.64\n"
     ]
    },
    {
     "name": "stderr",
     "output_type": "stream",
     "text": [
      "Some characters could not be decoded, and were replaced with REPLACEMENT CHARACTER.\n"
     ]
    },
    {
     "name": "stdout",
     "output_type": "stream",
     "text": [
      "Return on Networth / Equity (%): 26.32\n",
      "PE: 16.892258673589804\n",
      "Price/Net Operating Revenue: 16.892258673589804\n",
      "given URL: https://www.moneycontrol.com/financials/hindalcoindustries/balance-sheetVI/HI#HI\n"
     ]
    },
    {
     "name": "stderr",
     "output_type": "stream",
     "text": [
      "Some characters could not be decoded, and were replaced with REPLACEMENT CHARACTER.\n"
     ]
    },
    {
     "name": "stdout",
     "output_type": "stream",
     "text": [
      "Net Sales: 45,749.16\n"
     ]
    },
    {
     "name": "stderr",
     "output_type": "stream",
     "text": [
      "Some characters could not be decoded, and were replaced with REPLACEMENT CHARACTER.\n"
     ]
    },
    {
     "name": "stdout",
     "output_type": "stream",
     "text": [
      "Interest Cover :2.08\n",
      "given URL: https://www.moneycontrol.com/financials/hindustanunilever/balance-sheetVI/HU#HU\n"
     ]
    },
    {
     "name": "stderr",
     "output_type": "stream",
     "text": [
      "Some characters could not be decoded, and were replaced with REPLACEMENT CHARACTER.\n"
     ]
    },
    {
     "name": "stdout",
     "output_type": "stream",
     "text": [
      "Net Sales: 37,660.00\n"
     ]
    },
    {
     "name": "stderr",
     "output_type": "stream",
     "text": [
      "Some characters could not be decoded, and were replaced with REPLACEMENT CHARACTER.\n"
     ]
    },
    {
     "name": "stdout",
     "output_type": "stream",
     "text": [
      "Interest Cover :313.46\n"
     ]
    },
    {
     "name": "stderr",
     "output_type": "stream",
     "text": [
      "Some characters could not be decoded, and were replaced with REPLACEMENT CHARACTER.\n"
     ]
    },
    {
     "name": "stdout",
     "output_type": "stream",
     "text": [
      "Return on Networth / Equity (%): 78.80\n",
      "PE: 70.62567228397275\n",
      "given URL: https://www.moneycontrol.com/financials/indiabullshousingfinance/balance-sheetVI/IHF01#IHF01\n"
     ]
    },
    {
     "name": "stderr",
     "output_type": "stream",
     "text": [
      "Some characters could not be decoded, and were replaced with REPLACEMENT CHARACTER.\n"
     ]
    },
    {
     "name": "stdout",
     "output_type": "stream",
     "text": [
      "Net Sales: 15,407.35\n"
     ]
    },
    {
     "name": "stderr",
     "output_type": "stream",
     "text": [
      "Some characters could not be decoded, and were replaced with REPLACEMENT CHARACTER.\n"
     ]
    },
    {
     "name": "stdout",
     "output_type": "stream",
     "text": [
      "Interest Cover :1.57\n",
      "given URL: https://www.moneycontrol.com/financials/icicibank/balance-sheetVI/ICI02#ICI02\n"
     ]
    },
    {
     "name": "stderr",
     "output_type": "stream",
     "text": [
      "Some characters could not be decoded, and were replaced with REPLACEMENT CHARACTER.\n"
     ]
    },
    {
     "name": "stdout",
     "output_type": "stream",
     "text": [
      "Net Sales: 47,942.62\n"
     ]
    },
    {
     "name": "stderr",
     "output_type": "stream",
     "text": [
      "Some characters could not be decoded, and were replaced with REPLACEMENT CHARACTER.\n"
     ]
    },
    {
     "name": "stdout",
     "output_type": "stream",
     "text": [
      "Interest Expended / Capital Employed(%) :3.96\n",
      "given URL: https://www.moneycontrol.com/financials/indusindbank/balance-sheetVI/IIB#IIB\n"
     ]
    },
    {
     "name": "stderr",
     "output_type": "stream",
     "text": [
      "Some characters could not be decoded, and were replaced with REPLACEMENT CHARACTER.\n"
     ]
    },
    {
     "name": "stdout",
     "output_type": "stream",
     "text": [
      "Net Sales: 18,256.68\n"
     ]
    },
    {
     "name": "stderr",
     "output_type": "stream",
     "text": [
      "Some characters could not be decoded, and were replaced with REPLACEMENT CHARACTER.\n"
     ]
    },
    {
     "name": "stdout",
     "output_type": "stream",
     "text": [
      "Interest Expended / Capital Employed(%) :5.38\n"
     ]
    },
    {
     "name": "stderr",
     "output_type": "stream",
     "text": [
      "Some characters could not be decoded, and were replaced with REPLACEMENT CHARACTER.\n"
     ]
    },
    {
     "name": "stdout",
     "output_type": "stream",
     "text": [
      "given URL: https://www.moneycontrol.com/financials/bhartiinfratel/balance-sheetVI/BI14#BI14\n"
     ]
    },
    {
     "name": "stderr",
     "output_type": "stream",
     "text": [
      "Some characters could not be decoded, and were replaced with REPLACEMENT CHARACTER.\n"
     ]
    },
    {
     "name": "stdout",
     "output_type": "stream",
     "text": [
      "Net Sales: 6,821.70\n"
     ]
    },
    {
     "name": "stderr",
     "output_type": "stream",
     "text": [
      "Some characters could not be decoded, and were replaced with REPLACEMENT CHARACTER.\n"
     ]
    },
    {
     "name": "stdout",
     "output_type": "stream",
     "text": [
      "Interest Cover :70.28\n"
     ]
    },
    {
     "name": "stderr",
     "output_type": "stream",
     "text": [
      "Some characters could not be decoded, and were replaced with REPLACEMENT CHARACTER.\n"
     ]
    },
    {
     "name": "stdout",
     "output_type": "stream",
     "text": [
      "Return on Networth / Equity (%): 17.74\n",
      "PE: 17.24218230206254\n",
      "Price/Net Operating Revenue: 17.24218230206254\n",
      "Total Debt/Equity : 0.00\n",
      "**************************************************\n",
      "given URL: https://www.moneycontrol.com/financials/infosys/balance-sheetVI/IT#IT\n"
     ]
    },
    {
     "name": "stderr",
     "output_type": "stream",
     "text": [
      "Some characters could not be decoded, and were replaced with REPLACEMENT CHARACTER.\n"
     ]
    },
    {
     "name": "stdout",
     "output_type": "stream",
     "text": [
      "Net Sales: 73,107.00\n"
     ]
    },
    {
     "name": "stderr",
     "output_type": "stream",
     "text": [
      "Some characters could not be decoded, and were replaced with REPLACEMENT CHARACTER.\n"
     ]
    },
    {
     "name": "stdout",
     "output_type": "stream",
     "text": [
      "Interest Cover :--\n",
      "given URL: https://www.moneycontrol.com/financials/indianoilcorporation/balance-sheetVI/IOC#IOC\n"
     ]
    },
    {
     "name": "stderr",
     "output_type": "stream",
     "text": [
      "Some characters could not be decoded, and were replaced with REPLACEMENT CHARACTER.\n"
     ]
    },
    {
     "name": "stdout",
     "output_type": "stream",
     "text": [
      "Net Sales: 527,692.69\n"
     ]
    },
    {
     "name": "stderr",
     "output_type": "stream",
     "text": [
      "Some characters could not be decoded, and were replaced with REPLACEMENT CHARACTER.\n"
     ]
    },
    {
     "name": "stdout",
     "output_type": "stream",
     "text": [
      "Interest Cover :6.83\n"
     ]
    },
    {
     "name": "stderr",
     "output_type": "stream",
     "text": [
      "Some characters could not be decoded, and were replaced with REPLACEMENT CHARACTER.\n"
     ]
    },
    {
     "name": "stdout",
     "output_type": "stream",
     "text": [
      "Return on Networth / Equity (%): 15.54\n",
      "PE: 7.409167132476244\n",
      "Price/Net Operating Revenue: 7.409167132476244\n",
      "Total Debt/Equity : 0.77\n",
      "**************************************************\n",
      "given URL: https://www.moneycontrol.com/financials/itc/balance-sheetVI/ITC#ITC\n"
     ]
    },
    {
     "name": "stderr",
     "output_type": "stream",
     "text": [
      "Some characters could not be decoded, and were replaced with REPLACEMENT CHARACTER.\n"
     ]
    },
    {
     "name": "stdout",
     "output_type": "stream",
     "text": [
      "Net Sales: 44,432.67\n"
     ]
    },
    {
     "name": "stderr",
     "output_type": "stream",
     "text": [
      "Some characters could not be decoded, and were replaced with REPLACEMENT CHARACTER.\n"
     ]
    },
    {
     "name": "stdout",
     "output_type": "stream",
     "text": [
      "Interest Cover :540.46\n"
     ]
    },
    {
     "name": "stderr",
     "output_type": "stream",
     "text": [
      "Some characters could not be decoded, and were replaced with REPLACEMENT CHARACTER.\n"
     ]
    },
    {
     "name": "stdout",
     "output_type": "stream",
     "text": [
      "Return on Networth / Equity (%): 21.50\n",
      "PE: 23.361138370951917\n",
      "Price/Net Operating Revenue: 23.361138370951917\n",
      "given URL: https://www.moneycontrol.com/financials/jswsteel/balance-sheetVI/JSW01#JSW01\n"
     ]
    },
    {
     "name": "stderr",
     "output_type": "stream",
     "text": [
      "Some characters could not be decoded, and were replaced with REPLACEMENT CHARACTER.\n"
     ]
    },
    {
     "name": "stdout",
     "output_type": "stream",
     "text": [
      "Net Sales: 74,769.00\n"
     ]
    },
    {
     "name": "stderr",
     "output_type": "stream",
     "text": [
      "Some characters could not be decoded, and were replaced with REPLACEMENT CHARACTER.\n"
     ]
    },
    {
     "name": "stdout",
     "output_type": "stream",
     "text": [
      "Interest Cover :4.19\n"
     ]
    },
    {
     "name": "stderr",
     "output_type": "stream",
     "text": [
      "Some characters could not be decoded, and were replaced with REPLACEMENT CHARACTER.\n"
     ]
    },
    {
     "name": "stdout",
     "output_type": "stream",
     "text": [
      "Return on Networth / Equity (%): 23.48\n",
      "PE: 6.931586608442503\n",
      "Price/Net Operating Revenue: 6.931586608442503\n",
      "Total Debt/Equity : 0.91\n",
      "**************************************************\n",
      "given URL: https://www.moneycontrol.com/financials/kotakmahindrabank/balance-sheetVI/KMB#KMB\n"
     ]
    },
    {
     "name": "stderr",
     "output_type": "stream",
     "text": [
      "Some characters could not be decoded, and were replaced with REPLACEMENT CHARACTER.\n"
     ]
    },
    {
     "name": "stdout",
     "output_type": "stream",
     "text": [
      "Net Sales: 18,371.25\n"
     ]
    },
    {
     "name": "stderr",
     "output_type": "stream",
     "text": [
      "Some characters could not be decoded, and were replaced with REPLACEMENT CHARACTER.\n"
     ]
    },
    {
     "name": "stdout",
     "output_type": "stream",
     "text": [
      "Interest Expended / Capital Employed(%) :4.40\n"
     ]
    },
    {
     "name": "stderr",
     "output_type": "stream",
     "text": [
      "Some characters could not be decoded, and were replaced with REPLACEMENT CHARACTER.\n"
     ]
    },
    {
     "name": "stdout",
     "output_type": "stream",
     "text": [
      "given URL: https://www.moneycontrol.com/financials/larsentoubro/balance-sheetVI/LT#LT\n"
     ]
    },
    {
     "name": "stderr",
     "output_type": "stream",
     "text": [
      "Some characters could not be decoded, and were replaced with REPLACEMENT CHARACTER.\n"
     ]
    },
    {
     "name": "stdout",
     "output_type": "stream",
     "text": [
      "Net Sales: 86,987.86\n"
     ]
    },
    {
     "name": "stderr",
     "output_type": "stream",
     "text": [
      "Some characters could not be decoded, and were replaced with REPLACEMENT CHARACTER.\n"
     ]
    },
    {
     "name": "stdout",
     "output_type": "stream",
     "text": [
      "Interest Cover :6.33\n"
     ]
    },
    {
     "name": "stderr",
     "output_type": "stream",
     "text": [
      "Some characters could not be decoded, and were replaced with REPLACEMENT CHARACTER.\n"
     ]
    },
    {
     "name": "stdout",
     "output_type": "stream",
     "text": [
      "given URL: https://www.moneycontrol.com/financials/mahindramahindra/balance-sheetVI/MM#MM\n"
     ]
    },
    {
     "name": "stderr",
     "output_type": "stream",
     "text": [
      "Some characters could not be decoded, and were replaced with REPLACEMENT CHARACTER.\n"
     ]
    },
    {
     "name": "stdout",
     "output_type": "stream",
     "text": [
      "Net Sales: 53,614.00\n"
     ]
    },
    {
     "name": "stderr",
     "output_type": "stream",
     "text": [
      "Some characters could not be decoded, and were replaced with REPLACEMENT CHARACTER.\n"
     ]
    },
    {
     "name": "stdout",
     "output_type": "stream",
     "text": [
      "Interest Cover :57.04\n"
     ]
    },
    {
     "name": "stderr",
     "output_type": "stream",
     "text": [
      "Some characters could not be decoded, and were replaced with REPLACEMENT CHARACTER.\n"
     ]
    },
    {
     "name": "stdout",
     "output_type": "stream",
     "text": [
      "given URL: https://www.moneycontrol.com/financials/marutisuzukiindia/balance-sheetVI/MS24#MS24\n"
     ]
    },
    {
     "name": "stderr",
     "output_type": "stream",
     "text": [
      "Some characters could not be decoded, and were replaced with REPLACEMENT CHARACTER.\n"
     ]
    },
    {
     "name": "stdout",
     "output_type": "stream",
     "text": [
      "Net Sales: 83,026.50\n"
     ]
    },
    {
     "name": "stderr",
     "output_type": "stream",
     "text": [
      "Some characters could not be decoded, and were replaced with REPLACEMENT CHARACTER.\n"
     ]
    },
    {
     "name": "stdout",
     "output_type": "stream",
     "text": [
      "Interest Cover :139.07\n"
     ]
    },
    {
     "name": "stderr",
     "output_type": "stream",
     "text": [
      "Some characters could not be decoded, and were replaced with REPLACEMENT CHARACTER.\n"
     ]
    },
    {
     "name": "stdout",
     "output_type": "stream",
     "text": [
      "Return on Networth / Equity (%): 16.25\n",
      "PE: 26.548328634716068\n",
      "given URL: https://www.moneycontrol.com/financials/ntpc/balance-sheetVI/NTP#NTP\n"
     ]
    },
    {
     "name": "stderr",
     "output_type": "stream",
     "text": [
      "Some characters could not be decoded, and were replaced with REPLACEMENT CHARACTER.\n"
     ]
    },
    {
     "name": "stdout",
     "output_type": "stream",
     "text": [
      "Net Sales: 90,307.43\n"
     ]
    },
    {
     "name": "stderr",
     "output_type": "stream",
     "text": [
      "Some characters could not be decoded, and were replaced with REPLACEMENT CHARACTER.\n"
     ]
    },
    {
     "name": "stdout",
     "output_type": "stream",
     "text": [
      "Interest Cover :3.69\n",
      "given URL: https://www.moneycontrol.com/financials/oilnaturalgascorporation/balance-sheetVI/ONG#ONG\n"
     ]
    },
    {
     "name": "stderr",
     "output_type": "stream",
     "text": [
      "Some characters could not be decoded, and were replaced with REPLACEMENT CHARACTER.\n"
     ]
    },
    {
     "name": "stdout",
     "output_type": "stream",
     "text": [
      "Net Sales: 109,654.55\n"
     ]
    },
    {
     "name": "stderr",
     "output_type": "stream",
     "text": [
      "Some characters could not be decoded, and were replaced with REPLACEMENT CHARACTER.\n"
     ]
    },
    {
     "name": "stdout",
     "output_type": "stream",
     "text": [
      "Interest Cover :17.03\n"
     ]
    },
    {
     "name": "stderr",
     "output_type": "stream",
     "text": [
      "Some characters could not be decoded, and were replaced with REPLACEMENT CHARACTER.\n"
     ]
    },
    {
     "name": "stdout",
     "output_type": "stream",
     "text": [
      "given URL: https://www.moneycontrol.com/financials/powergridcorporationindia/balance-sheetVI/PGC#PGC\n"
     ]
    },
    {
     "name": "stderr",
     "output_type": "stream",
     "text": [
      "Some characters could not be decoded, and were replaced with REPLACEMENT CHARACTER.\n"
     ]
    },
    {
     "name": "stdout",
     "output_type": "stream",
     "text": [
      "Net Sales: 34,119.12\n"
     ]
    },
    {
     "name": "stderr",
     "output_type": "stream",
     "text": [
      "Some characters could not be decoded, and were replaced with REPLACEMENT CHARACTER.\n"
     ]
    },
    {
     "name": "stdout",
     "output_type": "stream",
     "text": [
      "Interest Cover :2.26\n",
      "given URL: https://www.moneycontrol.com/financials/relianceindustries/balance-sheetVI/RI#RI\n"
     ]
    },
    {
     "name": "stderr",
     "output_type": "stream",
     "text": [
      "Some characters could not be decoded, and were replaced with REPLACEMENT CHARACTER.\n"
     ]
    },
    {
     "name": "stdout",
     "output_type": "stream",
     "text": [
      "Net Sales: 371,019.00\n"
     ]
    },
    {
     "name": "stderr",
     "output_type": "stream",
     "text": [
      "Some characters could not be decoded, and were replaced with REPLACEMENT CHARACTER.\n"
     ]
    },
    {
     "name": "stdout",
     "output_type": "stream",
     "text": [
      "Interest Cover :5.86\n"
     ]
    },
    {
     "name": "stderr",
     "output_type": "stream",
     "text": [
      "Some characters could not be decoded, and were replaced with REPLACEMENT CHARACTER.\n"
     ]
    },
    {
     "name": "stdout",
     "output_type": "stream",
     "text": [
      "given URL: https://www.moneycontrol.com/financials/statebankindia/balance-sheetVI/SBI#SBI\n"
     ]
    },
    {
     "name": "stderr",
     "output_type": "stream",
     "text": [
      "Some characters could not be decoded, and were replaced with REPLACEMENT CHARACTER.\n"
     ]
    },
    {
     "name": "stdout",
     "output_type": "stream",
     "text": [
      "Net Sales: 161,640.23\n"
     ]
    },
    {
     "name": "stderr",
     "output_type": "stream",
     "text": [
      "Some characters could not be decoded, and were replaced with REPLACEMENT CHARACTER.\n"
     ]
    },
    {
     "name": "stdout",
     "output_type": "stream",
     "text": [
      "Interest Expended / Capital Employed(%) :4.36\n"
     ]
    },
    {
     "name": "stderr",
     "output_type": "stream",
     "text": [
      "Some characters could not be decoded, and were replaced with REPLACEMENT CHARACTER.\n"
     ]
    },
    {
     "name": "stdout",
     "output_type": "stream",
     "text": [
      "given URL: https://www.moneycontrol.com/financials/sunpharmaceuticalindustries/balance-sheetVI/SPI#SPI\n"
     ]
    },
    {
     "name": "stderr",
     "output_type": "stream",
     "text": [
      "Some characters could not be decoded, and were replaced with REPLACEMENT CHARACTER.\n"
     ]
    },
    {
     "name": "stdout",
     "output_type": "stream",
     "text": [
      "Net Sales: 9,783.29\n"
     ]
    },
    {
     "name": "stderr",
     "output_type": "stream",
     "text": [
      "Some characters could not be decoded, and were replaced with REPLACEMENT CHARACTER.\n"
     ]
    },
    {
     "name": "stdout",
     "output_type": "stream",
     "text": [
      "Interest Cover :4.58\n"
     ]
    },
    {
     "name": "stderr",
     "output_type": "stream",
     "text": [
      "Some characters could not be decoded, and were replaced with REPLACEMENT CHARACTER.\n"
     ]
    },
    {
     "name": "stdout",
     "output_type": "stream",
     "text": [
      "given URL: https://www.moneycontrol.com/financials/tatamotors/balance-sheetVI/TM03#TM03\n"
     ]
    },
    {
     "name": "stderr",
     "output_type": "stream",
     "text": [
      "Some characters could not be decoded, and were replaced with REPLACEMENT CHARACTER.\n"
     ]
    },
    {
     "name": "stdout",
     "output_type": "stream",
     "text": [
      "Net Sales: 68,764.88\n"
     ]
    },
    {
     "name": "stderr",
     "output_type": "stream",
     "text": [
      "Some characters could not be decoded, and were replaced with REPLACEMENT CHARACTER.\n"
     ]
    },
    {
     "name": "stdout",
     "output_type": "stream",
     "text": [
      "Interest Cover :2.45\n",
      "given URL: https://www.moneycontrol.com/financials/tatasteel/balance-sheetVI/TIS#TIS\n"
     ]
    },
    {
     "name": "stderr",
     "output_type": "stream",
     "text": [
      "Some characters could not be decoded, and were replaced with REPLACEMENT CHARACTER.\n"
     ]
    },
    {
     "name": "stdout",
     "output_type": "stream",
     "text": [
      "Net Sales: 68,923.36\n"
     ]
    },
    {
     "name": "stderr",
     "output_type": "stream",
     "text": [
      "Some characters could not be decoded, and were replaced with REPLACEMENT CHARACTER.\n"
     ]
    },
    {
     "name": "stdout",
     "output_type": "stream",
     "text": [
      "Interest Cover :6.79\n"
     ]
    },
    {
     "name": "stderr",
     "output_type": "stream",
     "text": [
      "Some characters could not be decoded, and were replaced with REPLACEMENT CHARACTER.\n"
     ]
    },
    {
     "name": "stdout",
     "output_type": "stream",
     "text": [
      "given URL: https://www.moneycontrol.com/financials/tataconsultancyservices/balance-sheetVI/TCS#TCS\n"
     ]
    },
    {
     "name": "stderr",
     "output_type": "stream",
     "text": [
      "Some characters could not be decoded, and were replaced with REPLACEMENT CHARACTER.\n"
     ]
    },
    {
     "name": "stdout",
     "output_type": "stream",
     "text": [
      "Net Sales: 123,170.00\n"
     ]
    },
    {
     "name": "stderr",
     "output_type": "stream",
     "text": [
      "Some characters could not be decoded, and were replaced with REPLACEMENT CHARACTER.\n"
     ]
    },
    {
     "name": "stdout",
     "output_type": "stream",
     "text": [
      "Interest Cover :240.44\n"
     ]
    },
    {
     "name": "stderr",
     "output_type": "stream",
     "text": [
      "Some characters could not be decoded, and were replaced with REPLACEMENT CHARACTER.\n"
     ]
    },
    {
     "name": "stdout",
     "output_type": "stream",
     "text": [
      "Return on Networth / Equity (%): 38.10\n",
      "PE: 26.0328963952609\n",
      "given URL: https://www.moneycontrol.com/financials/techmahindra/balance-sheetVI/TM4#TM4\n"
     ]
    },
    {
     "name": "stderr",
     "output_type": "stream",
     "text": [
      "Some characters could not be decoded, and were replaced with REPLACEMENT CHARACTER.\n"
     ]
    },
    {
     "name": "stdout",
     "output_type": "stream",
     "text": [
      "Net Sales: 27,219.60\n"
     ]
    },
    {
     "name": "stderr",
     "output_type": "stream",
     "text": [
      "Some characters could not be decoded, and were replaced with REPLACEMENT CHARACTER.\n"
     ]
    },
    {
     "name": "stdout",
     "output_type": "stream",
     "text": [
      "Interest Cover :126.92\n"
     ]
    },
    {
     "name": "stderr",
     "output_type": "stream",
     "text": [
      "Some characters could not be decoded, and were replaced with REPLACEMENT CHARACTER.\n"
     ]
    },
    {
     "name": "stdout",
     "output_type": "stream",
     "text": [
      "Return on Networth / Equity (%): 21.21\n",
      "PE: 15.721175414984298\n",
      "Price/Net Operating Revenue: 15.721175414984298\n",
      "Total Debt/Equity : 0.00\n",
      "**************************************************\n",
      "given URL: https://www.moneycontrol.com/financials/titancompany/balance-sheetVI/TI01#TI01\n"
     ]
    },
    {
     "name": "stderr",
     "output_type": "stream",
     "text": [
      "Some characters could not be decoded, and were replaced with REPLACEMENT CHARACTER.\n"
     ]
    },
    {
     "name": "stdout",
     "output_type": "stream",
     "text": [
      "Net Sales: 18,885.34\n"
     ]
    },
    {
     "name": "stderr",
     "output_type": "stream",
     "text": [
      "Some characters could not be decoded, and were replaced with REPLACEMENT CHARACTER.\n"
     ]
    },
    {
     "name": "stdout",
     "output_type": "stream",
     "text": [
      "Interest Cover :45.94\n"
     ]
    },
    {
     "name": "stderr",
     "output_type": "stream",
     "text": [
      "Some characters could not be decoded, and were replaced with REPLACEMENT CHARACTER.\n"
     ]
    },
    {
     "name": "stdout",
     "output_type": "stream",
     "text": [
      "Return on Networth / Equity (%): 22.23\n",
      "PE: 81.62467700258398\n",
      "given URL: https://www.moneycontrol.com/financials/ultratechcement/balance-sheetVI/UTC01#UTC01\n"
     ]
    },
    {
     "name": "stderr",
     "output_type": "stream",
     "text": [
      "Some characters could not be decoded, and were replaced with REPLACEMENT CHARACTER.\n"
     ]
    },
    {
     "name": "stdout",
     "output_type": "stream",
     "text": [
      "Net Sales: 35,703.50\n"
     ]
    },
    {
     "name": "stderr",
     "output_type": "stream",
     "text": [
      "Some characters could not be decoded, and were replaced with REPLACEMENT CHARACTER.\n"
     ]
    },
    {
     "name": "stdout",
     "output_type": "stream",
     "text": [
      "Interest Cover :3.51\n",
      "given URL: https://www.moneycontrol.com/financials/upl/balance-sheetVI/UP04#UP04\n"
     ]
    },
    {
     "name": "stderr",
     "output_type": "stream",
     "text": [
      "Some characters could not be decoded, and were replaced with REPLACEMENT CHARACTER.\n"
     ]
    },
    {
     "name": "stdout",
     "output_type": "stream",
     "text": [
      "Net Sales: 8,660.00\n"
     ]
    },
    {
     "name": "stderr",
     "output_type": "stream",
     "text": [
      "Some characters could not be decoded, and were replaced with REPLACEMENT CHARACTER.\n"
     ]
    },
    {
     "name": "stdout",
     "output_type": "stream",
     "text": [
      "Interest Cover :3.65\n",
      "given URL: https://www.moneycontrol.com/financials/vedanta/balance-sheetVI/SG#SG\n"
     ]
    },
    {
     "name": "stderr",
     "output_type": "stream",
     "text": [
      "Some characters could not be decoded, and were replaced with REPLACEMENT CHARACTER.\n"
     ]
    },
    {
     "name": "stdout",
     "output_type": "stream",
     "text": [
      "Net Sales: 38,098.00\n"
     ]
    },
    {
     "name": "stderr",
     "output_type": "stream",
     "text": [
      "Some characters could not be decoded, and were replaced with REPLACEMENT CHARACTER.\n"
     ]
    },
    {
     "name": "stdout",
     "output_type": "stream",
     "text": [
      "Interest Cover :2.23\n",
      "given URL: https://www.moneycontrol.com/financials/wipro/balance-sheetVI/W#W\n"
     ]
    },
    {
     "name": "stderr",
     "output_type": "stream",
     "text": [
      "Some characters could not be decoded, and were replaced with REPLACEMENT CHARACTER.\n"
     ]
    },
    {
     "name": "stdout",
     "output_type": "stream",
     "text": [
      "Net Sales: 48,029.80\n"
     ]
    },
    {
     "name": "stderr",
     "output_type": "stream",
     "text": [
      "Some characters could not be decoded, and were replaced with REPLACEMENT CHARACTER.\n"
     ]
    },
    {
     "name": "stdout",
     "output_type": "stream",
     "text": [
      "Interest Cover :19.80\n"
     ]
    },
    {
     "name": "stderr",
     "output_type": "stream",
     "text": [
      "Some characters could not be decoded, and were replaced with REPLACEMENT CHARACTER.\n"
     ]
    },
    {
     "name": "stdout",
     "output_type": "stream",
     "text": [
      "Return on Networth / Equity (%): 15.41\n",
      "PE: 19.41199684293607\n",
      "Price/Net Operating Revenue: 19.41199684293607\n",
      "Total Debt/Equity : 0.10\n",
      "**************************************************\n",
      "given URL: https://www.moneycontrol.com/financials/yesbank/balance-sheetVI/YB#YB\n"
     ]
    },
    {
     "name": "stderr",
     "output_type": "stream",
     "text": [
      "Some characters could not be decoded, and were replaced with REPLACEMENT CHARACTER.\n"
     ]
    },
    {
     "name": "stdout",
     "output_type": "stream",
     "text": [
      "Net Sales: 22,922.64\n"
     ]
    },
    {
     "name": "stderr",
     "output_type": "stream",
     "text": [
      "Some characters could not be decoded, and were replaced with REPLACEMENT CHARACTER.\n"
     ]
    },
    {
     "name": "stdout",
     "output_type": "stream",
     "text": [
      "Interest Expended / Capital Employed(%) :5.72\n"
     ]
    },
    {
     "name": "stderr",
     "output_type": "stream",
     "text": [
      "Some characters could not be decoded, and were replaced with REPLACEMENT CHARACTER.\n"
     ]
    },
    {
     "name": "stdout",
     "output_type": "stream",
     "text": [
      "given URL: https://www.moneycontrol.com/financials/zeeentertainmententerprises/balance-sheetVI/ZEE#ZEE\n"
     ]
    },
    {
     "name": "stderr",
     "output_type": "stream",
     "text": [
      "Some characters could not be decoded, and were replaced with REPLACEMENT CHARACTER.\n"
     ]
    },
    {
     "name": "stdout",
     "output_type": "stream",
     "text": [
      "Net Sales: 6,857.86\n"
     ]
    },
    {
     "name": "stderr",
     "output_type": "stream",
     "text": [
      "Some characters could not be decoded, and were replaced with REPLACEMENT CHARACTER.\n"
     ]
    },
    {
     "name": "stdout",
     "output_type": "stream",
     "text": [
      "Interest Cover :21.38\n"
     ]
    },
    {
     "name": "stderr",
     "output_type": "stream",
     "text": [
      "Some characters could not be decoded, and were replaced with REPLACEMENT CHARACTER.\n"
     ]
    },
    {
     "name": "stdout",
     "output_type": "stream",
     "text": [
      "Return on Networth / Equity (%): 23.20\n",
      "PE: 17.49274521183981\n",
      "Price/Net Operating Revenue: 17.49274521183981\n",
      "Total Debt/Equity : 0.00\n",
      "**************************************************\n"
     ]
    }
   ],
   "source": [
    "for i in p:\n",
    "    print(\"given URL: \"+i)\n",
    "    #Ratios\n",
    "    count1+=1\n",
    "    UrlRatios=re.sub('balance-sheetVI','ratiosVI',i)\n",
    "    #print(\"urlRatio: \"+ UrlRatios)\n",
    "\n",
    "    #yearly\n",
    "    UrlYears=re.sub('balance-sheetVI','results/yearly',i)\n",
    "    ##print(\"UrlYears: \"+UrlYears)\n",
    "\n",
    "    #OldFormat\n",
    "    Left=UrlRatios.find('VI/')\n",
    "    Right=UrlRatios.find('#')\n",
    "    UrlOld=UrlRatios[:Left]+'/'+UrlRatios[Right+1:]\n",
    "    #print(\"OLD: \"+UrlOld)\n",
    "    #print()\n",
    "    \n",
    "    #NetSales\n",
    "    my_url=UrlYears\n",
    "    uClient=uReq(my_url)\n",
    "    page_html=uClient.read()\n",
    "    uClient.close()\n",
    "    page_soup=Soup(page_html,\"html.parser\")\n",
    "    containers=page_soup.findAll(\"td\",{\"class\":\"det\"})\n",
    "    netSalesValue=containers[2].text\n",
    "    print(\"Net Sales: \"+netSalesValue)\n",
    "    netSalesValue=list(netSalesValue)\n",
    "    while(',' in netSalesValue):\n",
    "        netSalesValue.remove(',')\n",
    "    netSalesValue=''.join(netSalesValue)\n",
    "    \n",
    "    if(netSalesValue!='--'):\n",
    "        #print(\"net Sales is digit\")\n",
    "        if(float(netSalesValue)>=250):\n",
    "            #OldUrl + InterestCover\n",
    "            \n",
    "            my_url=UrlOld\n",
    "            uClient=uReq(my_url)\n",
    "            page_html=uClient.read()\n",
    "            uClient.close()\n",
    "            page_soup=Soup(page_html,\"html.parser\")\n",
    "            containers=page_soup.findAll(\"table\",{\"class\":\"table4\"})\n",
    "            container=containers[2]\n",
    "            price=container.findAll(\"td\",{\"class\":\"det\"})\n",
    "            ic=price[23*6].text\n",
    "            ic_value=price[23*6+1].text\n",
    "            print(ic+\" :\" + ic_value)\n",
    "\n",
    "            ic_value=list(ic_value)\n",
    "            while(',' in ic_value):\n",
    "                ic_value.remove(',')\n",
    "            ic_value=''.join(ic_value)\n",
    "\n",
    "            if(ic_value!='--'):\n",
    "                if(float(ic_value)>=4):\n",
    "                    #Ratios\n",
    "                    my_url=UrlRatios\n",
    "                    uClient=uReq(my_url)\n",
    "                    page_html=uClient.read()\n",
    "                    uClient.close()\n",
    "                    page_soup=Soup(page_html,\"html.parser\")\n",
    "                    containers=page_soup.findAll(\"table\",{\"class\":\"table4\"})\n",
    "                    container=containers[2]\n",
    "                    price=container.findAll(\"td\",{\"class\":\"det\"})\n",
    "                    #ROE CALCULATION\n",
    "                    ROE=price[15*6 +1].text\n",
    "\n",
    "                    ROE=list(ROE)\n",
    "                    while(',' in ROE):\n",
    "                        ROE.remove(',')\n",
    "                    ROE=''.join(ROE)\n",
    "\n",
    "                    if('--'!= ROE):\n",
    "                        if(float(ROE)>=15):\n",
    "                            print(\"Return on Networth / Equity (%): \"+ROE)\n",
    "\n",
    "                            \n",
    "                            containers=page_soup.findAll(\"div\",{\"id\":\"Nse_Prc_tick_div\"})\n",
    "                            container=containers[0]\n",
    "                            numerator=containers[0].text\n",
    "                            containers1=page_soup.findAll(\"td\",{\"class\":\"det\"})\n",
    "                            denominator=containers1[2].text\n",
    "                            PE=float(numerator)/float(denominator)\n",
    "                            print(\"PE: \"+str(PE))\n",
    "                            #PE=price[33*6+1].text\n",
    "                            #PE=list(PE)\n",
    "                            #while(',' in PE):\n",
    "                            #    PE.remove(',')\n",
    "                            #PE=''.join(PE)\n",
    "                            if('--'!=PE):\n",
    "                                if(float(PE)<=25):\n",
    "                                    print(\"Price/Net Operating Revenue: \"+str(PE))\n",
    "                                    #Total Debt/equity CALCULATIOn\n",
    "                                    DdivE=price[18*6+1].text\n",
    "\n",
    "                                    DdivE=list(DdivE)\n",
    "                                    while(',' in DdivE):\n",
    "                                        DdivE.remove(',')\n",
    "                                    DdivE=''.join(DdivE)\n",
    "                                    \n",
    "                                    if(DdivE!='--'):\n",
    "                                        if(float(DdivE)<=30):\n",
    "                                            print(\"Total Debt/Equity : \"+DdivE)\n",
    "                                            finalCompany.append(i)\n",
    "                                            print(\"*\"*50)\n",
    "                                            count+=1"
   ]
  },
  {
   "cell_type": "code",
   "execution_count": 55,
   "metadata": {},
   "outputs": [
    {
     "name": "stdout",
     "output_type": "stream",
     "text": [
      "['https://www.moneycontrol.com/financials/bajajauto/balance-sheetVI/BA10#BA10', 'https://www.moneycontrol.com/financials/bharatpetroleumcorporation/balance-sheetVI/BPC#BPC', 'https://www.moneycontrol.com/financials/coalindia/balance-sheetVI/CI11#CI11', 'https://www.moneycontrol.com/financials/eichermotors/balance-sheetVI/EM#EM', 'https://www.moneycontrol.com/financials/bhartiinfratel/balance-sheetVI/BI14#BI14', 'https://www.moneycontrol.com/financials/indianoilcorporation/balance-sheetVI/IOC#IOC', 'https://www.moneycontrol.com/financials/jswsteel/balance-sheetVI/JSW01#JSW01', 'https://www.moneycontrol.com/financials/techmahindra/balance-sheetVI/TM4#TM4', 'https://www.moneycontrol.com/financials/wipro/balance-sheetVI/W#W', 'https://www.moneycontrol.com/financials/zeeentertainmententerprises/balance-sheetVI/ZEE#ZEE']\n",
      "10\n"
     ]
    }
   ],
   "source": [
    "print(finalCompany)\n",
    "print(count)"
   ]
  },
  {
   "cell_type": "code",
   "execution_count": 48,
   "metadata": {},
   "outputs": [
    {
     "name": "stdout",
     "output_type": "stream",
     "text": [
      "https://www.moneycontrol.com/financials/asianpaints/balance-sheetVI/AP31#AP31\n",
      "https://www.moneycontrol.com/financials/bajajauto/balance-sheetVI/BA10#BA10\n",
      "https://www.moneycontrol.com/financials/bharatpetroleumcorporation/balance-sheetVI/BPC#BPC\n",
      "https://www.moneycontrol.com/financials/coalindia/balance-sheetVI/CI11#CI11\n",
      "https://www.moneycontrol.com/financials/eichermotors/balance-sheetVI/EM#EM\n",
      "https://www.moneycontrol.com/financials/bhartiinfratel/balance-sheetVI/BI14#BI14\n",
      "https://www.moneycontrol.com/financials/indianoilcorporation/balance-sheetVI/IOC#IOC\n",
      "https://www.moneycontrol.com/financials/jswsteel/balance-sheetVI/JSW01#JSW01\n",
      "https://www.moneycontrol.com/financials/marutisuzukiindia/balance-sheetVI/MS24#MS24\n",
      "https://www.moneycontrol.com/financials/tataconsultancyservices/balance-sheetVI/TCS#TCS\n",
      "https://www.moneycontrol.com/financials/techmahindra/balance-sheetVI/TM4#TM4\n",
      "https://www.moneycontrol.com/financials/titancompany/balance-sheetVI/TI01#TI01\n",
      "https://www.moneycontrol.com/financials/wipro/balance-sheetVI/W#W\n",
      "https://www.moneycontrol.com/financials/zeeentertainmententerprises/balance-sheetVI/ZEE#ZEE\n",
      "https://www.moneycontrol.com/financials/bajajauto/balance-sheetVI/BA10#BA10\n",
      "https://www.moneycontrol.com/financials/bharatpetroleumcorporation/balance-sheetVI/BPC#BPC\n",
      "https://www.moneycontrol.com/financials/coalindia/balance-sheetVI/CI11#CI11\n",
      "https://www.moneycontrol.com/financials/eichermotors/balance-sheetVI/EM#EM\n",
      "https://www.moneycontrol.com/financials/bajajauto/balance-sheetVI/BA10#BA10\n",
      "https://www.moneycontrol.com/financials/bharatpetroleumcorporation/balance-sheetVI/BPC#BPC\n",
      "https://www.moneycontrol.com/financials/coalindia/balance-sheetVI/CI11#CI11\n",
      "https://www.moneycontrol.com/financials/eichermotors/balance-sheetVI/EM#EM\n",
      "https://www.moneycontrol.com/financials/bhartiinfratel/balance-sheetVI/BI14#BI14\n",
      "https://www.moneycontrol.com/financials/indianoilcorporation/balance-sheetVI/IOC#IOC\n",
      "https://www.moneycontrol.com/financials/jswsteel/balance-sheetVI/JSW01#JSW01\n",
      "https://www.moneycontrol.com/financials/techmahindra/balance-sheetVI/TM4#TM4\n",
      "https://www.moneycontrol.com/financials/wipro/balance-sheetVI/W#W\n",
      "https://www.moneycontrol.com/financials/zeeentertainmententerprises/balance-sheetVI/ZEE#ZEE\n"
     ]
    }
   ],
   "source": [
    "for j in finalCompany: #URL OF LIST OF COMPANIES\n",
    "    print(j)"
   ]
  },
  {
   "cell_type": "code",
   "execution_count": 56,
   "metadata": {
    "scrolled": false
   },
   "outputs": [
    {
     "name": "stdout",
     "output_type": "stream",
     "text": [
      "10\n",
      "bajajauto\n",
      "bharatpetroleumcorporation\n",
      "bhartiinfratel\n",
      "coalindia\n",
      "eichermotors\n",
      "indianoilcorporation\n",
      "jswsteel\n",
      "techmahindra\n",
      "wipro\n",
      "zeeentertainmententerprises\n"
     ]
    }
   ],
   "source": [
    "finalCompany=set(finalCompany)\n",
    "print(len(finalCompany))\n",
    "for j in sorted(finalCompany): #FINAL LIST OF COMPANIES\n",
    "    print(j[j.find('financials')+11:j.find('/balance-sheet')])"
   ]
  },
  {
   "cell_type": "code",
   "execution_count": null,
   "metadata": {},
   "outputs": [],
   "source": []
  }
 ],
 "metadata": {
  "kernelspec": {
   "display_name": "Python 3",
   "language": "python",
   "name": "python3"
  },
  "language_info": {
   "codemirror_mode": {
    "name": "ipython",
    "version": 3
   },
   "file_extension": ".py",
   "mimetype": "text/x-python",
   "name": "python",
   "nbconvert_exporter": "python",
   "pygments_lexer": "ipython3",
   "version": "3.7.3"
  }
 },
 "nbformat": 4,
 "nbformat_minor": 2
}
